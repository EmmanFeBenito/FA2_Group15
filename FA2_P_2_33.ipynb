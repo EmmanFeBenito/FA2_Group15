{
  "nbformat": 4,
  "nbformat_minor": 0,
  "metadata": {
    "colab": {
      "provenance": []
    },
    "kernelspec": {
      "name": "python3",
      "display_name": "Python 3"
    },
    "language_info": {
      "name": "python"
    }
  },
  "cells": [
    {
      "cell_type": "code",
      "execution_count": 16,
      "metadata": {
        "colab": {
          "base_uri": "https://localhost:8080/"
        },
        "id": "LOisEr-roc9M",
        "outputId": "49ee4ba6-b1b4-4151-c2e7-8f970e744fcb"
      },
      "outputs": [
        {
          "output_type": "stream",
          "name": "stdout",
          "text": [
            "Enter a polynomial in x (e.g., 2*x**2 + 3*x): 15*x**3 - 6*x**2 + 7*x +15\n",
            "The first derivative of the polynomial is: 45*x**2 - 12*x + 7\n"
          ]
        }
      ],
      "source": [
        "import sympy as sp\n",
        "\n",
        "class Polynomial:\n",
        "    def __init__(self, poly):\n",
        "        self.poly = sp.sympify(poly)\n",
        "\n",
        "    def derivative(self):\n",
        "        x = sp.symbols('x')\n",
        "        return sp.diff(self.poly, x)\n",
        "\n",
        "def main():\n",
        "    poly_input = input(\"Enter a polynomial in x (e.g., 2*x**2 + 3*x): \")\n",
        "    polynomial = Polynomial(poly_input)\n",
        "\n",
        "    print(\"The first derivative of the polynomial is:\", polynomial.derivative())\n",
        "\n",
        "main()\n"
      ]
    }
  ]
}