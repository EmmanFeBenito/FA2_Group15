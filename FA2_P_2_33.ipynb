{
  "nbformat": 4,
  "nbformat_minor": 0,
  "metadata": {
    "colab": {
      "provenance": []
    },
    "kernelspec": {
      "name": "python3",
      "display_name": "Python 3"
    },
    "language_info": {
      "name": "python"
    }
  },
  "cells": [
    {
      "cell_type": "code",
      "execution_count": 12,
      "metadata": {
        "colab": {
          "base_uri": "https://localhost:8080/"
        },
        "id": "LOisEr-roc9M",
        "outputId": "70182c7e-99a8-4271-82af-6c5682ec2bdc"
      },
      "outputs": [
        {
          "output_type": "stream",
          "name": "stdout",
          "text": [
            "Enter a polynomial in x (e.g., 2*x**2 + 3*x): 4*x**3 + 15*x**2 - 21*x + 7\n",
            "The first derivative of the polynomial is: 12*x**2 + 30*x - 21\n"
          ]
        }
      ],
      "source": [
        "import sympy as sp\n",
        "\n",
        "def main():\n",
        "    x = sp.symbols('x')\n",
        "\n",
        "    poly_input = input(\"Enter a polynomial in x (e.g., 2*x**2 + 3*x): \")\n",
        "\n",
        "    polynomial = sp.sympify(poly_input)\n",
        "\n",
        "    derivative = sp.diff(polynomial, x)\n",
        "\n",
        "    print(\"The first derivative of the polynomial is:\", derivative)\n",
        "\n",
        "main()"
      ]
    }
  ]
}